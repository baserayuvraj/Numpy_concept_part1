{
 "cells": [
  {
   "cell_type": "code",
   "execution_count": 1,
   "id": "dc26f46f",
   "metadata": {},
   "outputs": [],
   "source": [
    "import numpy as np # numpy is library"
   ]
  },
  {
   "cell_type": "markdown",
   "id": "47a87d04",
   "metadata": {},
   "source": [
    "**NumPy** is a library written for scientific computing and data analysis. It stands for numerical python.\n",
    "\n",
    "Elements in a numpy array have to be of the **same data type**, which is commonly numeric (float or integer). \n"
   ]
  },
  {
   "cell_type": "code",
   "execution_count": 28,
   "id": "74806190",
   "metadata": {},
   "outputs": [],
   "source": [
    "first_array = np.array([3,6,4,2])"
   ]
  },
  {
   "cell_type": "code",
   "execution_count": 29,
   "id": "551a3286",
   "metadata": {},
   "outputs": [
    {
     "data": {
      "text/plain": [
       "array([3, 6, 4, 2])"
      ]
     },
     "execution_count": 29,
     "metadata": {},
     "output_type": "execute_result"
    }
   ],
   "source": [
    "first_array"
   ]
  },
  {
   "cell_type": "code",
   "execution_count": null,
   "id": "a8d282c6",
   "metadata": {},
   "outputs": [],
   "source": []
  },
  {
   "cell_type": "markdown",
   "id": "605df299",
   "metadata": {},
   "source": [
    "### difference between list and numpy array"
   ]
  },
  {
   "cell_type": "code",
   "execution_count": 10,
   "id": "889709b4",
   "metadata": {},
   "outputs": [
    {
     "data": {
      "text/plain": [
       "[3, 6, 4, 2, 3, 6, 4, 2, 3, 6, 4, 2, 3, 6, 4, 2, 3, 6, 4, 2]"
      ]
     },
     "execution_count": 10,
     "metadata": {},
     "output_type": "execute_result"
    }
   ],
   "source": [
    "# element wise mathematical operation not possible in list\n",
    "\n",
    "l1 = [3,6,4,2]\n",
    "\n",
    "l1*5"
   ]
  },
  {
   "cell_type": "code",
   "execution_count": 14,
   "id": "d2d8b539",
   "metadata": {},
   "outputs": [
    {
     "data": {
      "text/plain": [
       "array([15, 30, 20, 10])"
      ]
     },
     "execution_count": 14,
     "metadata": {},
     "output_type": "execute_result"
    }
   ],
   "source": [
    "first_array = np.array([3,6,4,2])\n",
    "first_array*5"
   ]
  },
  {
   "cell_type": "code",
   "execution_count": 21,
   "id": "7dde63e3",
   "metadata": {},
   "outputs": [],
   "source": [
    "\n",
    "# list is heterogeneous but array is homogeneous\n",
    "\n",
    "\n",
    "arr1 = np.array([1,2,2.1,4,'kk'])"
   ]
  },
  {
   "cell_type": "code",
   "execution_count": 22,
   "id": "f0d20208",
   "metadata": {},
   "outputs": [
    {
     "name": "stdout",
     "output_type": "stream",
     "text": [
      "['1' '2' '2.1' '4' 'kk']\n"
     ]
    }
   ],
   "source": [
    "print(arr1) # all elements are automatically type casted to string"
   ]
  },
  {
   "cell_type": "code",
   "execution_count": 30,
   "id": "755fbdd0",
   "metadata": {},
   "outputs": [
    {
     "data": {
      "text/plain": [
       "array([[1, 2, 3],\n",
       "       [4, 5, 6]])"
      ]
     },
     "execution_count": 30,
     "metadata": {},
     "output_type": "execute_result"
    }
   ],
   "source": [
    "# array are multidimensional but list are 1 dimension (although they can be nested)\n",
    "\n",
    "arr2 = np.array([(1, 2, 3), (4, 5, 6)])\n",
    "arr2"
   ]
  },
  {
   "cell_type": "code",
   "execution_count": 31,
   "id": "17b72add",
   "metadata": {},
   "outputs": [
    {
     "data": {
      "text/plain": [
       "2"
      ]
     },
     "execution_count": 31,
     "metadata": {},
     "output_type": "execute_result"
    }
   ],
   "source": [
    "arr2.ndim"
   ]
  },
  {
   "cell_type": "code",
   "execution_count": 2,
   "id": "108fac44",
   "metadata": {},
   "outputs": [
    {
     "name": "stdout",
     "output_type": "stream",
     "text": [
      "0.0002071857452392578\n"
     ]
    }
   ],
   "source": [
    "# performance \n",
    "import time # time is module\n",
    "\n",
    "start_time = time.time()\n",
    "arr2 = np.array([1, 2, 3,4, 5, 6])\n",
    "arr2*10.9\n",
    "\n",
    "end_time = time.time()\n",
    "\n",
    "print(end_time - start_time)\n"
   ]
  },
  {
   "cell_type": "code",
   "execution_count": 3,
   "id": "c589016a",
   "metadata": {},
   "outputs": [
    {
     "name": "stdout",
     "output_type": "stream",
     "text": [
      "0.0010306835174560547\n"
     ]
    }
   ],
   "source": [
    "start_time = time.time()\n",
    "\n",
    "lis1 = [1, 2, 3, 4, 5, 6]\n",
    "\n",
    "lis2 = [i*10.9 for i in lis1 ]\n",
    "\n",
    "end_time = time.time()\n",
    "\n",
    "\n",
    "print(end_time - start_time)"
   ]
  },
  {
   "cell_type": "markdown",
   "id": "60d13d86",
   "metadata": {},
   "source": [
    "### Adding elements to array"
   ]
  },
  {
   "cell_type": "code",
   "execution_count": 6,
   "id": "1f090f25",
   "metadata": {},
   "outputs": [],
   "source": [
    "arr2 = np.array([2,19,22,21])\n"
   ]
  },
  {
   "cell_type": "code",
   "execution_count": 12,
   "id": "8215eaec",
   "metadata": {},
   "outputs": [
    {
     "data": {
      "text/plain": [
       "array([ 2, 19, 22, 21, 12])"
      ]
     },
     "execution_count": 12,
     "metadata": {},
     "output_type": "execute_result"
    }
   ],
   "source": [
    "arr2_new = np.append(arr2,12) # append array\n",
    "\n",
    "arr2_new"
   ]
  },
  {
   "cell_type": "code",
   "execution_count": 27,
   "id": "77df4309",
   "metadata": {},
   "outputs": [
    {
     "data": {
      "text/plain": [
       "array([ 2, 19, 22, 21, 12, 10, 10])"
      ]
     },
     "execution_count": 27,
     "metadata": {},
     "output_type": "execute_result"
    }
   ],
   "source": [
    "arr2_new = np.append(arr2,[12,10,10]) # append array\n",
    "\n",
    "arr2_new"
   ]
  },
  {
   "cell_type": "markdown",
   "id": "bd0d8eb2",
   "metadata": {},
   "source": [
    "### Multidimensional Array"
   ]
  },
  {
   "cell_type": "markdown",
   "id": "7b05f988",
   "metadata": {},
   "source": [
    "numpy arrays can be created into multiple dimension.\n",
    "<br> represented 2 D array in below image"
   ]
  },
  {
   "attachments": {
    "multi_dim_array.png": {
     "image/png": "[encoded data removed]"
    }
   },
   "cell_type": "markdown",
   "id": "efa0e881",
   "metadata": {},
   "source": [
    "![multi_dim_array.png](attachment:multi_dim_array.png)"
   ]
  },
  {
   "cell_type": "markdown",
   "id": "43652b0e",
   "metadata": {},
   "source": [
    "<br> **axis = 0** represent rows\n",
    "<br> **axis = 1** represent columns\n",
    "<br> In each cell above, first value represent the row and second value represent the column"
   ]
  },
  {
   "cell_type": "code",
   "execution_count": 38,
   "id": "c98788a0",
   "metadata": {},
   "outputs": [
    {
     "name": "stdout",
     "output_type": "stream",
     "text": [
      "[[12 11  2]\n",
      " [ 1  2  3]]\n"
     ]
    }
   ],
   "source": [
    "mult_arr = np.array([[12,11,2],[1,2,3]])\n",
    "\n",
    "print(mult_arr)"
   ]
  },
  {
   "cell_type": "code",
   "execution_count": 37,
   "id": "726f8f7e",
   "metadata": {},
   "outputs": [
    {
     "data": {
      "text/plain": [
       "2"
      ]
     },
     "execution_count": 37,
     "metadata": {},
     "output_type": "execute_result"
    }
   ],
   "source": [
    "# dimension of array\n",
    "mult_arr.ndim"
   ]
  },
  {
   "cell_type": "code",
   "execution_count": 38,
   "id": "b3a01269",
   "metadata": {},
   "outputs": [
    {
     "data": {
      "text/plain": [
       "(2, 3)"
      ]
     },
     "execution_count": 38,
     "metadata": {},
     "output_type": "execute_result"
    }
   ],
   "source": [
    "# shape of array\n",
    "mult_arr.shape "
   ]
  },
  {
   "cell_type": "code",
   "execution_count": 39,
   "id": "fc2205dd",
   "metadata": {},
   "outputs": [
    {
     "data": {
      "text/plain": [
       "6"
      ]
     },
     "execution_count": 39,
     "metadata": {},
     "output_type": "execute_result"
    }
   ],
   "source": [
    "# size of array\n",
    "\n",
    "mult_arr.size"
   ]
  },
  {
   "cell_type": "code",
   "execution_count": 47,
   "id": "47af6f4d",
   "metadata": {},
   "outputs": [
    {
     "data": {
      "text/plain": [
       "dtype('int32')"
      ]
     },
     "execution_count": 47,
     "metadata": {},
     "output_type": "execute_result"
    }
   ],
   "source": [
    "mult_arr.dtype # integer"
   ]
  },
  {
   "cell_type": "markdown",
   "id": "ec132e35",
   "metadata": {},
   "source": [
    "#### Reshape"
   ]
  },
  {
   "cell_type": "markdown",
   "id": "fcb9480f",
   "metadata": {},
   "source": [
    "we can change the dimension of array"
   ]
  },
  {
   "cell_type": "code",
   "execution_count": 54,
   "id": "b452f82a",
   "metadata": {},
   "outputs": [
    {
     "data": {
      "text/plain": [
       "array([[1, 2],\n",
       "       [3, 4],\n",
       "       [5, 6]])"
      ]
     },
     "execution_count": 54,
     "metadata": {},
     "output_type": "execute_result"
    }
   ],
   "source": [
    "a2 = np.array([1, 2, 3, 4, 5, 6])\n",
    "a2_new = np.reshape(a2,(3,2)) # we have changed the dimenison of array with 3 rows and 2 columns\n",
    "a2_new"
   ]
  },
  {
   "cell_type": "code",
   "execution_count": 44,
   "id": "2a120564",
   "metadata": {},
   "outputs": [
    {
     "data": {
      "text/plain": [
       "2"
      ]
     },
     "execution_count": 44,
     "metadata": {},
     "output_type": "execute_result"
    }
   ],
   "source": [
    "a2_new.ndim"
   ]
  },
  {
   "cell_type": "code",
   "execution_count": 45,
   "id": "21c8edd1",
   "metadata": {},
   "outputs": [
    {
     "data": {
      "text/plain": [
       "(3, 2)"
      ]
     },
     "execution_count": 45,
     "metadata": {},
     "output_type": "execute_result"
    }
   ],
   "source": [
    "# shape of array\n",
    "a2_new.shape "
   ]
  },
  {
   "cell_type": "code",
   "execution_count": 46,
   "id": "caf39438",
   "metadata": {},
   "outputs": [
    {
     "data": {
      "text/plain": [
       "6"
      ]
     },
     "execution_count": 46,
     "metadata": {},
     "output_type": "execute_result"
    }
   ],
   "source": [
    "a2_new.size"
   ]
  },
  {
   "cell_type": "code",
   "execution_count": 55,
   "id": "60515dcf",
   "metadata": {},
   "outputs": [
    {
     "data": {
      "text/plain": [
       "array([[1, 2, 3],\n",
       "       [4, 5, 6]])"
      ]
     },
     "execution_count": 55,
     "metadata": {},
     "output_type": "execute_result"
    }
   ],
   "source": [
    "np.reshape(a2_new,(2,3)) # reshaping the array to 2 rows and 3 columns"
   ]
  },
  {
   "cell_type": "code",
   "execution_count": 56,
   "id": "56224f2f",
   "metadata": {},
   "outputs": [
    {
     "data": {
      "text/plain": [
       "array([[1],\n",
       "       [2],\n",
       "       [3],\n",
       "       [4],\n",
       "       [5],\n",
       "       [6]])"
      ]
     },
     "execution_count": 56,
     "metadata": {},
     "output_type": "execute_result"
    }
   ],
   "source": [
    "np.reshape(a2_new,(6,1)) # reshaping the array to 6 rows and 1 columns"
   ]
  },
  {
   "cell_type": "code",
   "execution_count": 57,
   "id": "08711290",
   "metadata": {},
   "outputs": [
    {
     "data": {
      "text/plain": [
       "array([1, 2, 3, 4, 5, 6])"
      ]
     },
     "execution_count": 57,
     "metadata": {},
     "output_type": "execute_result"
    }
   ],
   "source": [
    "np.reshape(a2_new,6) # flatten the array"
   ]
  },
  {
   "attachments": {
    "3D_arr_Exp.png": {
     "image/png": "[encoded data removed]"
    }
   },
   "cell_type": "markdown",
   "id": "09a378a1",
   "metadata": {},
   "source": [
    "![3D_arr_Exp.png](attachment:3D_arr_Exp.png)"
   ]
  },
  {
   "cell_type": "code",
   "execution_count": 39,
   "id": "405338ca",
   "metadata": {},
   "outputs": [
    {
     "name": "stdout",
     "output_type": "stream",
     "text": [
      "[[[ 1]\n",
      "  [ 2]\n",
      "  [ 3]\n",
      "  [ 4]]\n",
      "\n",
      " [[ 5]\n",
      "  [ 6]\n",
      "  [ 7]\n",
      "  [ 8]]\n",
      "\n",
      " [[ 9]\n",
      "  [10]\n",
      "  [11]\n",
      "  [12]]]\n"
     ]
    }
   ],
   "source": [
    "a3 = np.array([1, 2, 3, 4, 5, 6,7,8,9,10,11,12])\n",
    "a3_new = np.reshape(a3,(3,4,1)) \n",
    "print(a3_new)"
   ]
  },
  {
   "cell_type": "code",
   "execution_count": 40,
   "id": "aa7513e6",
   "metadata": {},
   "outputs": [
    {
     "name": "stdout",
     "output_type": "stream",
     "text": [
      "[[[ 1  2]\n",
      "  [ 3  4]\n",
      "  [ 5  6]\n",
      "  [ 7  8]]\n",
      "\n",
      " [[ 9 10]\n",
      "  [11 12]\n",
      "  [13 14]\n",
      "  [15 16]]\n",
      "\n",
      " [[17 18]\n",
      "  [19 20]\n",
      "  [21 22]\n",
      "  [23 24]]]\n"
     ]
    }
   ],
   "source": [
    "a3 = np.array([1, 2, 3, 4, 5, 6,7,8,9,10,11,12,13,14,15,16,17,18,19,20,21,22,23,24])\n",
    "a3_new = np.reshape(a3,(3,4,2)) \n",
    "print(a3_new)"
   ]
  },
  {
   "cell_type": "code",
   "execution_count": 29,
   "id": "031ffba3",
   "metadata": {},
   "outputs": [
    {
     "name": "stdout",
     "output_type": "stream",
     "text": [
      "[[[ 1  2]\n",
      "  [ 3  4]]\n",
      "\n",
      " [[ 5  6]\n",
      "  [ 7  8]]\n",
      "\n",
      " [[ 9 10]\n",
      "  [11 12]]]\n"
     ]
    }
   ],
   "source": [
    "a3 = np.array([1, 2, 3, 4, 5, 6,7,8,9,10,11,12])\n",
    "a3_new = np.reshape(a3,(3,2,2)) # we have changed the dimenison of array to 3 dimensonal\n",
    "print(a3_new)\n",
    "\n"
   ]
  },
  {
   "cell_type": "code",
   "execution_count": null,
   "id": "3318d4a1",
   "metadata": {},
   "outputs": [],
   "source": []
  },
  {
   "cell_type": "markdown",
   "id": "f00205f9",
   "metadata": {},
   "source": [
    "### Arange"
   ]
  },
  {
   "cell_type": "markdown",
   "id": "5b2ea6d3",
   "metadata": {},
   "source": [
    "Arange is used to generate numbers between range.\n",
    "\n",
    "<br> *numpy.arange([start, ]stop, [step, ])*"
   ]
  },
  {
   "cell_type": "markdown",
   "id": "81d0904c",
   "metadata": {},
   "source": [
    "#### generate numbers between 2 to 8 "
   ]
  },
  {
   "cell_type": "code",
   "execution_count": 65,
   "id": "cf3afe29",
   "metadata": {},
   "outputs": [
    {
     "data": {
      "text/plain": [
       "array([2, 3, 4, 5, 6, 7, 8])"
      ]
     },
     "execution_count": 65,
     "metadata": {},
     "output_type": "execute_result"
    }
   ],
   "source": [
    "np.arange(2,9)"
   ]
  },
  {
   "cell_type": "markdown",
   "id": "f0cbd82c",
   "metadata": {},
   "source": [
    "#### generate numbers between 10 to 100 with step of 10"
   ]
  },
  {
   "cell_type": "code",
   "execution_count": 67,
   "id": "ee6815d1",
   "metadata": {},
   "outputs": [
    {
     "data": {
      "text/plain": [
       "array([ 10,  20,  30,  40,  50,  60,  70,  80,  90, 100])"
      ]
     },
     "execution_count": 67,
     "metadata": {},
     "output_type": "execute_result"
    }
   ],
   "source": [
    "np.arange(10,101,10)"
   ]
  },
  {
   "cell_type": "code",
   "execution_count": null,
   "id": "6dce4978",
   "metadata": {},
   "outputs": [],
   "source": []
  },
  {
   "cell_type": "markdown",
   "id": "a263860a",
   "metadata": {},
   "source": [
    "#### create array of multiples of 2 till 36 with dimension (3,6)"
   ]
  },
  {
   "cell_type": "code",
   "execution_count": 73,
   "id": "aa21bb79",
   "metadata": {},
   "outputs": [
    {
     "data": {
      "text/plain": [
       "array([[ 2,  4,  6,  8, 10, 12],\n",
       "       [14, 16, 18, 20, 22, 24],\n",
       "       [26, 28, 30, 32, 34, 36]])"
      ]
     },
     "execution_count": 73,
     "metadata": {},
     "output_type": "execute_result"
    }
   ],
   "source": [
    "np.arange(2,37,2).reshape(3,6)"
   ]
  },
  {
   "cell_type": "markdown",
   "id": "8c91588f",
   "metadata": {},
   "source": [
    "#### create array of multiples of 2 till 36 with dimension (3,2,3)\n"
   ]
  },
  {
   "cell_type": "code",
   "execution_count": 5,
   "id": "8bd4cd63",
   "metadata": {},
   "outputs": [],
   "source": [
    "arr3 = np.arange(2,37,2).reshape(3,2,3)"
   ]
  },
  {
   "cell_type": "code",
   "execution_count": 6,
   "id": "4b5e4aa7",
   "metadata": {},
   "outputs": [
    {
     "data": {
      "text/plain": [
       "array([[[ 2,  4,  6],\n",
       "        [ 8, 10, 12]],\n",
       "\n",
       "       [[14, 16, 18],\n",
       "        [20, 22, 24]],\n",
       "\n",
       "       [[26, 28, 30],\n",
       "        [32, 34, 36]]])"
      ]
     },
     "execution_count": 6,
     "metadata": {},
     "output_type": "execute_result"
    }
   ],
   "source": [
    "arr3"
   ]
  },
  {
   "cell_type": "code",
   "execution_count": 7,
   "id": "986a0205",
   "metadata": {},
   "outputs": [
    {
     "data": {
      "text/plain": [
       "3"
      ]
     },
     "execution_count": 7,
     "metadata": {},
     "output_type": "execute_result"
    }
   ],
   "source": [
    "arr3.ndim"
   ]
  },
  {
   "cell_type": "code",
   "execution_count": 43,
   "id": "13129895",
   "metadata": {},
   "outputs": [],
   "source": [
    "arr4 = np.arange(1,37).reshape(3,2,3,2)"
   ]
  },
  {
   "cell_type": "code",
   "execution_count": 44,
   "id": "1dfd37ef",
   "metadata": {},
   "outputs": [
    {
     "name": "stdout",
     "output_type": "stream",
     "text": [
      "[[[[ 1  2]\n",
      "   [ 3  4]\n",
      "   [ 5  6]]\n",
      "\n",
      "  [[ 7  8]\n",
      "   [ 9 10]\n",
      "   [11 12]]]\n",
      "\n",
      "\n",
      " [[[13 14]\n",
      "   [15 16]\n",
      "   [17 18]]\n",
      "\n",
      "  [[19 20]\n",
      "   [21 22]\n",
      "   [23 24]]]\n",
      "\n",
      "\n",
      " [[[25 26]\n",
      "   [27 28]\n",
      "   [29 30]]\n",
      "\n",
      "  [[31 32]\n",
      "   [33 34]\n",
      "   [35 36]]]]\n"
     ]
    }
   ],
   "source": [
    "print(arr4)"
   ]
  },
  {
   "cell_type": "code",
   "execution_count": 11,
   "id": "c80d4c6d",
   "metadata": {},
   "outputs": [
    {
     "data": {
      "text/plain": [
       "4"
      ]
     },
     "execution_count": 11,
     "metadata": {},
     "output_type": "execute_result"
    }
   ],
   "source": [
    "arr4.ndim"
   ]
  },
  {
   "cell_type": "code",
   "execution_count": 12,
   "id": "cff9ac8a",
   "metadata": {},
   "outputs": [
    {
     "data": {
      "text/plain": [
       "(3, 2, 3, 2)"
      ]
     },
     "execution_count": 12,
     "metadata": {},
     "output_type": "execute_result"
    }
   ],
   "source": [
    "arr4.shape"
   ]
  },
  {
   "cell_type": "code",
   "execution_count": null,
   "id": "5ba50a37",
   "metadata": {},
   "outputs": [],
   "source": []
  },
  {
   "cell_type": "markdown",
   "id": "ecc5a01b",
   "metadata": {},
   "source": [
    "### Indexing"
   ]
  },
  {
   "cell_type": "code",
   "execution_count": 17,
   "id": "79c2bd0f",
   "metadata": {},
   "outputs": [
    {
     "data": {
      "text/plain": [
       "array([1, 2, 3, 4])"
      ]
     },
     "execution_count": 17,
     "metadata": {},
     "output_type": "execute_result"
    }
   ],
   "source": [
    "# 1-D array\n",
    "arr1 = np.arange(1,5) \n",
    "arr1"
   ]
  },
  {
   "cell_type": "code",
   "execution_count": 18,
   "id": "7e1e14ec",
   "metadata": {},
   "outputs": [
    {
     "data": {
      "text/plain": [
       "3"
      ]
     },
     "execution_count": 18,
     "metadata": {},
     "output_type": "execute_result"
    }
   ],
   "source": [
    "arr1[2]"
   ]
  },
  {
   "cell_type": "code",
   "execution_count": 19,
   "id": "0d592461",
   "metadata": {},
   "outputs": [
    {
     "data": {
      "text/plain": [
       "1"
      ]
     },
     "execution_count": 19,
     "metadata": {},
     "output_type": "execute_result"
    }
   ],
   "source": [
    "arr1[0]"
   ]
  },
  {
   "cell_type": "code",
   "execution_count": 20,
   "id": "773c474e",
   "metadata": {},
   "outputs": [
    {
     "data": {
      "text/plain": [
       "4"
      ]
     },
     "execution_count": 20,
     "metadata": {},
     "output_type": "execute_result"
    }
   ],
   "source": [
    "arr1[-1]"
   ]
  },
  {
   "cell_type": "markdown",
   "id": "feb47086",
   "metadata": {},
   "source": [
    "### 2-D array"
   ]
  },
  {
   "cell_type": "code",
   "execution_count": 22,
   "id": "62d50bde",
   "metadata": {},
   "outputs": [
    {
     "name": "stdout",
     "output_type": "stream",
     "text": [
      "[[ 1  2  3  4  5]\n",
      " [ 6  7  8  9 10]]\n"
     ]
    }
   ],
   "source": [
    "\n",
    "\n",
    "arr2 = np.arange(1,11).reshape(2,5)\n",
    "\n",
    "print(arr2)"
   ]
  },
  {
   "cell_type": "code",
   "execution_count": 24,
   "id": "a97a07e0",
   "metadata": {},
   "outputs": [
    {
     "data": {
      "text/plain": [
       "2"
      ]
     },
     "execution_count": 24,
     "metadata": {},
     "output_type": "execute_result"
    }
   ],
   "source": [
    "arr2[0,1] # (row,column)\n",
    "# First index is row and second is column"
   ]
  },
  {
   "cell_type": "markdown",
   "id": "ba60adcb",
   "metadata": {},
   "source": [
    "### Ques\n",
    "access value 4 in above array"
   ]
  },
  {
   "cell_type": "code",
   "execution_count": 25,
   "id": "c2f89f0d",
   "metadata": {},
   "outputs": [
    {
     "data": {
      "text/plain": [
       "4"
      ]
     },
     "execution_count": 25,
     "metadata": {},
     "output_type": "execute_result"
    }
   ],
   "source": [
    "arr2[0,3]"
   ]
  },
  {
   "cell_type": "code",
   "execution_count": 26,
   "id": "94744bc6",
   "metadata": {},
   "outputs": [
    {
     "data": {
      "text/plain": [
       "8"
      ]
     },
     "execution_count": 26,
     "metadata": {},
     "output_type": "execute_result"
    }
   ],
   "source": [
    "# Access value 8 in above list\n",
    "\n",
    "\n",
    "\n",
    "\n",
    "arr2[1,2]"
   ]
  },
  {
   "cell_type": "markdown",
   "id": "709c5474",
   "metadata": {},
   "source": [
    "### 3D array"
   ]
  },
  {
   "cell_type": "code",
   "execution_count": 27,
   "id": "3f18224c",
   "metadata": {},
   "outputs": [
    {
     "name": "stdout",
     "output_type": "stream",
     "text": [
      "[[[ 1  2  3]\n",
      "  [ 4  5  6]]\n",
      "\n",
      " [[ 7  8  9]\n",
      "  [10 11 12]]]\n"
     ]
    }
   ],
   "source": [
    "arr3 = np.arange(1,13).reshape(2,2,3)\n",
    "print(arr3)"
   ]
  },
  {
   "cell_type": "code",
   "execution_count": 31,
   "id": "d4ac8de6",
   "metadata": {},
   "outputs": [
    {
     "data": {
      "text/plain": [
       "2"
      ]
     },
     "execution_count": 31,
     "metadata": {},
     "output_type": "execute_result"
    }
   ],
   "source": [
    "# getting 2 from above 3D array\n",
    "\n",
    "\n",
    "arr3[0,0,1]"
   ]
  },
  {
   "cell_type": "code",
   "execution_count": 45,
   "id": "b3e32d06",
   "metadata": {},
   "outputs": [
    {
     "name": "stdout",
     "output_type": "stream",
     "text": [
      "[[[ 1  2]\n",
      "  [ 3  4]]\n",
      "\n",
      " [[ 5  6]\n",
      "  [ 7  8]]\n",
      "\n",
      " [[ 9 10]\n",
      "  [11 12]]]\n"
     ]
    }
   ],
   "source": [
    "arr3 = np.arange(1,13).reshape(3,2,2)\n",
    "print(arr3)"
   ]
  },
  {
   "cell_type": "markdown",
   "id": "dc8aa19b",
   "metadata": {},
   "source": []
  },
  {
   "cell_type": "code",
   "execution_count": null,
   "id": "e46c2224",
   "metadata": {},
   "outputs": [],
   "source": []
  },
  {
   "cell_type": "markdown",
   "id": "d90a1240",
   "metadata": {},
   "source": [
    "### Ques "
   ]
  },
  {
   "cell_type": "markdown",
   "id": "2fdd8319",
   "metadata": {},
   "source": [
    "Identify the 6 in the above array"
   ]
  },
  {
   "cell_type": "code",
   "execution_count": 32,
   "id": "c33562b4",
   "metadata": {},
   "outputs": [
    {
     "data": {
      "text/plain": [
       "6"
      ]
     },
     "execution_count": 32,
     "metadata": {},
     "output_type": "execute_result"
    }
   ],
   "source": [
    "\n",
    "\n",
    "\n",
    "\n",
    "\n",
    "arr3[0,1,2]"
   ]
  },
  {
   "cell_type": "markdown",
   "id": "e6e0ce7e",
   "metadata": {},
   "source": [
    "## Array Slicing\n"
   ]
  },
  {
   "cell_type": "markdown",
   "id": "c35dfe3a",
   "metadata": {},
   "source": [
    "### 1 D array"
   ]
  },
  {
   "cell_type": "code",
   "execution_count": 47,
   "id": "76fd9d19",
   "metadata": {},
   "outputs": [
    {
     "name": "stdout",
     "output_type": "stream",
     "text": [
      "[1 2 3 4 5 6]\n"
     ]
    }
   ],
   "source": [
    "arr1 = np.arange(1,7)\n",
    "print(arr1)"
   ]
  },
  {
   "cell_type": "code",
   "execution_count": 36,
   "id": "8af365b5",
   "metadata": {},
   "outputs": [
    {
     "data": {
      "text/plain": [
       "array([3, 4, 5, 6])"
      ]
     },
     "execution_count": 36,
     "metadata": {},
     "output_type": "execute_result"
    }
   ],
   "source": [
    "arr1[2:] # similiar to list"
   ]
  },
  {
   "cell_type": "code",
   "execution_count": 38,
   "id": "811d7e42",
   "metadata": {},
   "outputs": [
    {
     "data": {
      "text/plain": [
       "array([1, 2, 3, 4, 5])"
      ]
     },
     "execution_count": 38,
     "metadata": {},
     "output_type": "execute_result"
    }
   ],
   "source": [
    "arr1[:-1] # excluding last value"
   ]
  },
  {
   "cell_type": "code",
   "execution_count": 48,
   "id": "0ec9c59f",
   "metadata": {},
   "outputs": [
    {
     "data": {
      "text/plain": [
       "array([6, 5, 4, 3, 2, 1])"
      ]
     },
     "execution_count": 48,
     "metadata": {},
     "output_type": "execute_result"
    }
   ],
   "source": [
    "arr1[::-1] # reverse"
   ]
  },
  {
   "cell_type": "markdown",
   "id": "7879d05c",
   "metadata": {},
   "source": [
    "### 2D array"
   ]
  },
  {
   "cell_type": "code",
   "execution_count": 50,
   "id": "eab85828",
   "metadata": {},
   "outputs": [
    {
     "name": "stdout",
     "output_type": "stream",
     "text": [
      "[[ 1  2  3  4]\n",
      " [ 5  6  7  8]\n",
      " [ 9 10 11 12]]\n"
     ]
    }
   ],
   "source": [
    "arr2 =  np.arange(1,13).reshape(3,4)\n",
    "\n",
    "print(arr2)"
   ]
  },
  {
   "cell_type": "markdown",
   "id": "b298ba60",
   "metadata": {},
   "source": [
    "#### Ques\n",
    "extract 1,2 from above array"
   ]
  },
  {
   "cell_type": "code",
   "execution_count": 41,
   "id": "b145bc70",
   "metadata": {},
   "outputs": [
    {
     "data": {
      "text/plain": [
       "array([1, 2])"
      ]
     },
     "execution_count": 41,
     "metadata": {},
     "output_type": "execute_result"
    }
   ],
   "source": [
    "arr2[0,0:2]"
   ]
  },
  {
   "cell_type": "markdown",
   "id": "f4f100e4",
   "metadata": {},
   "source": [
    "#### ques\n",
    "extract 6,7 from above array\n"
   ]
  },
  {
   "cell_type": "code",
   "execution_count": 42,
   "id": "f271babd",
   "metadata": {},
   "outputs": [
    {
     "data": {
      "text/plain": [
       "array([6, 7])"
      ]
     },
     "execution_count": 42,
     "metadata": {},
     "output_type": "execute_result"
    }
   ],
   "source": [
    "arr2[1,1:3]"
   ]
  },
  {
   "cell_type": "code",
   "execution_count": null,
   "id": "aae07e61",
   "metadata": {},
   "outputs": [],
   "source": []
  },
  {
   "cell_type": "code",
   "execution_count": 51,
   "id": "076b463f",
   "metadata": {},
   "outputs": [
    {
     "data": {
      "text/plain": [
       "array([ 3,  7, 11])"
      ]
     },
     "execution_count": 51,
     "metadata": {},
     "output_type": "execute_result"
    }
   ],
   "source": [
    "arr2[0:3,2]"
   ]
  },
  {
   "cell_type": "code",
   "execution_count": 52,
   "id": "45495411",
   "metadata": {},
   "outputs": [
    {
     "data": {
      "text/plain": [
       "array([ 8, 12])"
      ]
     },
     "execution_count": 52,
     "metadata": {},
     "output_type": "execute_result"
    }
   ],
   "source": [
    "arr2[1:3,3]"
   ]
  },
  {
   "cell_type": "markdown",
   "id": "2bf87f37",
   "metadata": {},
   "source": [
    "#### Ques\n",
    "\n",
    "Extract 11,12 from above list "
   ]
  },
  {
   "cell_type": "code",
   "execution_count": 43,
   "id": "05c05248",
   "metadata": {},
   "outputs": [
    {
     "data": {
      "text/plain": [
       "array([11, 12])"
      ]
     },
     "execution_count": 43,
     "metadata": {},
     "output_type": "execute_result"
    }
   ],
   "source": [
    "\n",
    "\n",
    "\n",
    "\n",
    "\n",
    "\n",
    "\n",
    "\n",
    "arr2[2,2:]"
   ]
  },
  {
   "cell_type": "markdown",
   "id": "819ac51a",
   "metadata": {},
   "source": [
    "\n",
    "#### 3D array"
   ]
  },
  {
   "cell_type": "code",
   "execution_count": 44,
   "id": "0985f169",
   "metadata": {},
   "outputs": [
    {
     "name": "stdout",
     "output_type": "stream",
     "text": [
      "[[[ 1  2]\n",
      "  [ 3  4]\n",
      "  [ 5  6]]\n",
      "\n",
      " [[ 7  8]\n",
      "  [ 9 10]\n",
      "  [11 12]]\n",
      "\n",
      " [[13 14]\n",
      "  [15 16]\n",
      "  [17 18]]]\n"
     ]
    }
   ],
   "source": [
    "arr3 =  np.arange(1,19).reshape(3,3,2)\n",
    "\n",
    "print(arr3)"
   ]
  },
  {
   "cell_type": "markdown",
   "id": "7c8fcbe8",
   "metadata": {},
   "source": [
    "#### ques\n",
    "extract 1,2 from above array"
   ]
  },
  {
   "cell_type": "code",
   "execution_count": 49,
   "id": "ee7fc04c",
   "metadata": {},
   "outputs": [
    {
     "data": {
      "text/plain": [
       "array([1, 2])"
      ]
     },
     "execution_count": 49,
     "metadata": {},
     "output_type": "execute_result"
    }
   ],
   "source": [
    "arr3[0,0,0:]"
   ]
  },
  {
   "cell_type": "markdown",
   "id": "83564a16",
   "metadata": {},
   "source": [
    "#### ques\n",
    "extract 11,12 from above array"
   ]
  },
  {
   "cell_type": "code",
   "execution_count": 51,
   "id": "d781a649",
   "metadata": {},
   "outputs": [
    {
     "data": {
      "text/plain": [
       "array([11, 12])"
      ]
     },
     "execution_count": 51,
     "metadata": {},
     "output_type": "execute_result"
    }
   ],
   "source": [
    "arr3[1,2,0:]"
   ]
  },
  {
   "cell_type": "markdown",
   "id": "f907bdf5",
   "metadata": {},
   "source": [
    "#### ques\n",
    "\n",
    "\n",
    "\n",
    "\n",
    "\n",
    "extract 13,14 from above array"
   ]
  },
  {
   "cell_type": "code",
   "execution_count": 53,
   "id": "0fc36ec9",
   "metadata": {},
   "outputs": [
    {
     "data": {
      "text/plain": [
       "array([13, 14])"
      ]
     },
     "execution_count": 53,
     "metadata": {},
     "output_type": "execute_result"
    }
   ],
   "source": [
    "\n",
    "\n",
    "\n",
    "\n",
    "\n",
    "\n",
    "\n",
    "\n",
    "\n",
    "\n",
    "\n",
    "arr3[2,0,:]"
   ]
  },
  {
   "cell_type": "markdown",
   "id": "568dd0c4",
   "metadata": {},
   "source": [
    "### Genrating random numbers "
   ]
  },
  {
   "cell_type": "code",
   "execution_count": 55,
   "id": "25f59dfc",
   "metadata": {},
   "outputs": [
    {
     "name": "stdout",
     "output_type": "stream",
     "text": [
      "13\n"
     ]
    }
   ],
   "source": [
    "from numpy import random\n",
    "\n",
    "x = random.randint(4,15) # will generate random integer between 4 to 15\n",
    "print(x)"
   ]
  },
  {
   "cell_type": "code",
   "execution_count": 10,
   "id": "faec99a0",
   "metadata": {},
   "outputs": [
    {
     "data": {
      "text/plain": [
       "array([ 4,  8, 14,  8, 12])"
      ]
     },
     "execution_count": 10,
     "metadata": {},
     "output_type": "execute_result"
    }
   ],
   "source": [
    "x = random.randint(4,15, size = (5)) # created 1 D array\n",
    "x"
   ]
  },
  {
   "cell_type": "code",
   "execution_count": 56,
   "id": "f0bbe06e",
   "metadata": {},
   "outputs": [
    {
     "data": {
      "text/plain": [
       "array([[13,  8],\n",
       "       [ 9,  6],\n",
       "       [ 7,  7],\n",
       "       [10, 13],\n",
       "       [ 8,  8]])"
      ]
     },
     "execution_count": 56,
     "metadata": {},
     "output_type": "execute_result"
    }
   ],
   "source": [
    "x = random.randint(4,15, size = (5,2)) # created 2 D array\n",
    "x"
   ]
  },
  {
   "cell_type": "code",
   "execution_count": 11,
   "id": "0c9196f4",
   "metadata": {},
   "outputs": [
    {
     "data": {
      "text/plain": [
       "array([0.14563184, 0.10690223, 0.41223493, 0.90980211, 0.66882674])"
      ]
     },
     "execution_count": 11,
     "metadata": {},
     "output_type": "execute_result"
    }
   ],
   "source": [
    "# it will generate random values between 0 to 1\n",
    "\n",
    "x = random.rand(5) # created 1 D array\n",
    "x"
   ]
  },
  {
   "cell_type": "code",
   "execution_count": 12,
   "id": "8980022d",
   "metadata": {},
   "outputs": [
    {
     "data": {
      "text/plain": [
       "array([[0.49321878, 0.50419171],\n",
       "       [0.73197205, 0.83317953],\n",
       "       [0.62681867, 0.20262989],\n",
       "       [0.20492611, 0.27016258],\n",
       "       [0.26403672, 0.74895059]])"
      ]
     },
     "execution_count": 12,
     "metadata": {},
     "output_type": "execute_result"
    }
   ],
   "source": [
    "\n",
    "x = random.rand(5,2) # created 2 D array\n",
    "x"
   ]
  },
  {
   "cell_type": "code",
   "execution_count": null,
   "id": "cb81ef1c",
   "metadata": {},
   "outputs": [],
   "source": []
  },
  {
   "cell_type": "markdown",
   "id": "c94fc017",
   "metadata": {},
   "source": [
    "### Creating NumPy Arrays \n",
    "\n",
    "There are multiple ways to create numpy arrays, the most commmon ones being:\n",
    "<br> Convert lists or tuples to arrays using ```np.array()```\n",
    "<br> Initialise arrays of fixed size (when the size is known) "
   ]
  },
  {
   "cell_type": "markdown",
   "id": "0dac3ad5",
   "metadata": {},
   "source": [
    "The following ways are commonly used:\n",
    "<br> ```np.ones()```: Create array of 1s\n",
    "<br> ```np.zeros()```: Create array of 0s\n",
    "<br> ```np.arange()```: Create array with increments of a fixed step size\n",
    "<br> ```np.linspace()```: Create evenly spaced numbers over a specified interval.\n",
    "<br> ```np.identity```: The identity array is a square array with ones on the main diagonal.\n",
    "<br>  `np.full()`: Create a constant array of any number ‘n’\n",
    "<br> `np.tile()`: Create a new array by repeating an existing array for a particular number of times"
   ]
  },
  {
   "cell_type": "code",
   "execution_count": 16,
   "id": "77bb2879",
   "metadata": {},
   "outputs": [
    {
     "data": {
      "text/plain": [
       "array([1., 1., 1., 1., 1.])"
      ]
     },
     "execution_count": 16,
     "metadata": {},
     "output_type": "execute_result"
    }
   ],
   "source": [
    "np.ones(5) # created 1 D array of length 5"
   ]
  },
  {
   "cell_type": "code",
   "execution_count": 17,
   "id": "98eb53af",
   "metadata": {},
   "outputs": [
    {
     "data": {
      "text/plain": [
       "array([[1., 1.],\n",
       "       [1., 1.],\n",
       "       [1., 1.],\n",
       "       [1., 1.],\n",
       "       [1., 1.]])"
      ]
     },
     "execution_count": 17,
     "metadata": {},
     "output_type": "execute_result"
    }
   ],
   "source": [
    "np.ones((5,2)) # created 2 D array of size 5,2"
   ]
  },
  {
   "cell_type": "code",
   "execution_count": 20,
   "id": "d9b0f7c5",
   "metadata": {},
   "outputs": [],
   "source": [
    "# we can change the datatype\n",
    "arr1 = np.ones((5,2),dtype = 'int32')"
   ]
  },
  {
   "cell_type": "code",
   "execution_count": 22,
   "id": "43c5cb4e",
   "metadata": {},
   "outputs": [
    {
     "data": {
      "text/plain": [
       "dtype('int32')"
      ]
     },
     "execution_count": 22,
     "metadata": {},
     "output_type": "execute_result"
    }
   ],
   "source": [
    "arr1.dtype"
   ]
  },
  {
   "cell_type": "code",
   "execution_count": 23,
   "id": "41bccd83",
   "metadata": {},
   "outputs": [
    {
     "data": {
      "text/plain": [
       "array([[0., 0., 0.],\n",
       "       [0., 0., 0.]])"
      ]
     },
     "execution_count": 23,
     "metadata": {},
     "output_type": "execute_result"
    }
   ],
   "source": [
    "np.zeros((2,3)) # created array for value 0"
   ]
  },
  {
   "cell_type": "code",
   "execution_count": 25,
   "id": "62953df0",
   "metadata": {},
   "outputs": [
    {
     "data": {
      "text/plain": [
       "array([2., 4., 6., 8.])"
      ]
     },
     "execution_count": 25,
     "metadata": {},
     "output_type": "execute_result"
    }
   ],
   "source": [
    "# linespace\n",
    "\n",
    "np.linspace(2,8,4) # (start,end,numbers to be generated)"
   ]
  },
  {
   "cell_type": "code",
   "execution_count": 26,
   "id": "49a3e15d",
   "metadata": {},
   "outputs": [
    {
     "data": {
      "text/plain": [
       "(array([2., 4., 6., 8.]), 2.0)"
      ]
     },
     "execution_count": 26,
     "metadata": {},
     "output_type": "execute_result"
    }
   ],
   "source": [
    "np.linspace(2,8,4, retstep= True) # retstep to get the interval value"
   ]
  },
  {
   "cell_type": "code",
   "execution_count": 28,
   "id": "18f84092",
   "metadata": {},
   "outputs": [],
   "source": [
    "# Identity "
   ]
  },
  {
   "cell_type": "code",
   "execution_count": 34,
   "id": "a221d180",
   "metadata": {},
   "outputs": [
    {
     "data": {
      "text/plain": [
       "array([[1., 0., 0., 0., 0.],\n",
       "       [0., 1., 0., 0., 0.],\n",
       "       [0., 0., 1., 0., 0.],\n",
       "       [0., 0., 0., 1., 0.],\n",
       "       [0., 0., 0., 0., 1.]])"
      ]
     },
     "execution_count": 34,
     "metadata": {},
     "output_type": "execute_result"
    }
   ],
   "source": [
    "np.identity(5) # will create square array with 1s on diagnol"
   ]
  },
  {
   "cell_type": "code",
   "execution_count": 35,
   "id": "3f195cd9",
   "metadata": {},
   "outputs": [
    {
     "data": {
      "text/plain": [
       "array([[1., 0., 0., 0.],\n",
       "       [0., 1., 0., 0.],\n",
       "       [0., 0., 1., 0.]])"
      ]
     },
     "execution_count": 35,
     "metadata": {},
     "output_type": "execute_result"
    }
   ],
   "source": [
    "np.eye(3,4) # can create 2 D array with any size"
   ]
  },
  {
   "cell_type": "code",
   "execution_count": 36,
   "id": "638de178",
   "metadata": {},
   "outputs": [
    {
     "data": {
      "text/plain": [
       "array([[0., 1., 0., 0.],\n",
       "       [0., 0., 1., 0.],\n",
       "       [0., 0., 0., 1.]])"
      ]
     },
     "execution_count": 36,
     "metadata": {},
     "output_type": "execute_result"
    }
   ],
   "source": [
    "np.eye(3,4,1) # can create 2 D array with any size"
   ]
  },
  {
   "cell_type": "code",
   "execution_count": 37,
   "id": "7821856c",
   "metadata": {},
   "outputs": [
    {
     "data": {
      "text/plain": [
       "array([[0., 0., 0., 0.],\n",
       "       [1., 0., 0., 0.],\n",
       "       [0., 1., 0., 0.]])"
      ]
     },
     "execution_count": 37,
     "metadata": {},
     "output_type": "execute_result"
    }
   ],
   "source": [
    "np.eye(3,4,-1) # can create 2 D array with any size"
   ]
  },
  {
   "cell_type": "code",
   "execution_count": 3,
   "id": "9f3027ed",
   "metadata": {},
   "outputs": [
    {
     "data": {
      "text/plain": [
       "array([[7, 7, 7],\n",
       "       [7, 7, 7],\n",
       "       [7, 7, 7],\n",
       "       [7, 7, 7]])"
      ]
     },
     "execution_count": 3,
     "metadata": {},
     "output_type": "execute_result"
    }
   ],
   "source": [
    "# Creating a 4 x 3 array of 7s using np.full()\n",
    "# The default data type here is int only\n",
    "np.full((4,3),7)"
   ]
  },
  {
   "cell_type": "code",
   "execution_count": 2,
   "id": "9c23eb47",
   "metadata": {},
   "outputs": [
    {
     "name": "stdout",
     "output_type": "stream",
     "text": [
      "[1 2 3 4 5 1 2 3 4 5 1 2 3 4 5 1 2 3 4 5]\n"
     ]
    }
   ],
   "source": [
    "# Given an array, np.tile() creates a new array by repeating the given array for any number of times that you want\n",
    "# The default data type her is int only\n",
    "x = np.array([1,2,3,4,5])\n",
    "y = np.tile(x,4)\n",
    "print(y)"
   ]
  },
  {
   "cell_type": "code",
   "execution_count": 5,
   "id": "db72961d",
   "metadata": {},
   "outputs": [
    {
     "name": "stdout",
     "output_type": "stream",
     "text": [
      "[[1 2 3 4 5 1 2 3 4 5]\n",
      " [1 2 3 4 5 1 2 3 4 5]\n",
      " [1 2 3 4 5 1 2 3 4 5]]\n"
     ]
    }
   ],
   "source": [
    "# You can also create multidimensional arrays using np.tile()\n",
    "x = ([1,2,3,4,5])\n",
    "y = np.tile(x,(3,2))\n",
    "print(y)"
   ]
  },
  {
   "cell_type": "code",
   "execution_count": null,
   "id": "87d8bb7e",
   "metadata": {},
   "outputs": [],
   "source": []
  }
 ],
 "metadata": {
  "kernelspec": {
   "display_name": "Python 3 (ipykernel)",
   "language": "python",
   "name": "python3"
  },
  "language_info": {
   "codemirror_mode": {
    "name": "ipython",
    "version": 3
   },
   "file_extension": ".py",
   "mimetype": "text/x-python",
   "name": "python",
   "nbconvert_exporter": "python",
   "pygments_lexer": "ipython3",
   "version": "3.11.3"
  }
 },
 "nbformat": 4,
 "nbformat_minor": 5
}
